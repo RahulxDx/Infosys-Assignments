{
  "nbformat": 4,
  "nbformat_minor": 0,
  "metadata": {
    "colab": {
      "provenance": []
    },
    "kernelspec": {
      "name": "python3",
      "display_name": "Python 3"
    },
    "language_info": {
      "name": "python"
    }
  },
  "cells": [
    {
      "cell_type": "markdown",
      "source": [
        "**PC Recommender**\n"
      ],
      "metadata": {
        "id": "pGg00693wYSD"
      }
    },
    {
      "cell_type": "code",
      "execution_count": 1,
      "metadata": {
        "id": "-4XeLbQbuLGK"
      },
      "outputs": [],
      "source": [
        "import requests"
      ]
    },
    {
      "cell_type": "code",
      "source": [
        "API_KEY = \"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\""
      ],
      "metadata": {
        "id": "Gay0B6Rhuaz2"
      },
      "execution_count": 2,
      "outputs": []
    },
    {
      "cell_type": "code",
      "source": [
        "import json\n",
        "\n",
        "url = \"https://api.groq.com/openai/v1/chat/completions\""
      ],
      "metadata": {
        "id": "g1ZINWenusom"
      },
      "execution_count": 3,
      "outputs": []
    },
    {
      "cell_type": "code",
      "source": [
        "messages = [\n",
        "  {\n",
        "    \"role\": \"system\",\n",
        "    \"content\": \"You're a PC Recommender. Recommend between two specifications. (Single line)\"\n",
        "  }\n",
        "]\n",
        "while True:\n",
        "  prompt = input(\"Enter the prompt\")\n",
        "  messages.append(\n",
        "    {\n",
        "      \"role\": \"user\",\n",
        "      \"content\": prompt\n",
        "    }\n",
        "  )\n",
        "  data = {\n",
        "    \"messages\": messages,\n",
        "    \"model\": \"llama3-8b-8192\",\n",
        "    \"temperature\": 0\n",
        "  }\n",
        "\n",
        "  headers = {\n",
        "      \"Content-Type\": \"application/json\",\n",
        "      \"Authorization\": f\"Bearer {API_KEY}\"\n",
        "  }\n",
        "\n",
        "  res = requests.post(\n",
        "      url, data=json.dumps(data), headers=headers\n",
        "  )\n",
        "  res = res.json()\n",
        "  data = res[\"choices\"][0][\"message\"][\"content\"]\n",
        "  messages.append(\n",
        "      {\n",
        "          \"role\": \"assistant\",\n",
        "          \"content\": data\n",
        "      }\n",
        "  )\n",
        "  print(data)\n",
        "  print(\"\\n\\n\")\n"
      ],
      "metadata": {
        "colab": {
          "base_uri": "https://localhost:8080/",
          "height": 981
        },
        "id": "prBi5VKBvHBV",
        "outputId": "ca4d53ee-2ea5-4481-c997-f1950c64488e"
      },
      "execution_count": 6,
      "outputs": [
        {
          "output_type": "stream",
          "name": "stdout",
          "text": [
            "Enter the promptIntel i5 11th gen or intel i5 12th gen\n",
            "I'd recommend the Intel i5 12th gen over the 11th gen, as it offers improved performance, power efficiency, and features like PCIe 4.0 and DDR5 support.\n",
            "\n",
            "\n",
            "\n",
            "Enter the promptWhat is recommended specifications to run LLMs?\n",
            "To run Large Language Models (LLMs) efficiently, I recommend the following specifications:\n",
            "\n",
            "* CPU: Intel Core i9 12th gen or AMD Ryzen 9 5000 series\n",
            "* GPU: NVIDIA GeForce RTX 3080 or AMD Radeon RX 6800 XT\n",
            "* RAM: 32 GB or more of DDR5 memory\n",
            "* Storage: Fast NVMe SSD with at least 1 TB of storage\n",
            "* Operating System: 64-bit Windows 10 or Linux (e.g., Ubuntu)\n",
            "\n",
            "Keep in mind that these are general recommendations, and specific requirements may vary depending on the specific LLM and its size.\n",
            "\n",
            "\n",
            "\n",
            "Enter the promptUnder 2 lakh\n",
            "Under a budget of ₹2,00,000, I'd recommend the following specifications:\n",
            "\n",
            "* CPU: Intel Core i7 11th gen or AMD Ryzen 7 5800X\n",
            "* GPU: NVIDIA GeForce RTX 2060 or AMD Radeon RX 6700 XT\n",
            "* RAM: 16 GB or more of DDR4 memory\n",
            "* Storage: Fast NVMe SSD with at least 512 GB of storage\n",
            "* Operating System: 64-bit Windows 10 or Linux (e.g., Ubuntu)\n",
            "\n",
            "These specifications should provide a good balance between performance and budget.\n",
            "\n",
            "\n",
            "\n",
            "Enter the prompt\n",
            "It seems like you didn't ask a question. If you'd like to ask something or clarify your previous question, I'm here to help!\n",
            "\n",
            "\n",
            "\n"
          ]
        },
        {
          "output_type": "error",
          "ename": "KeyboardInterrupt",
          "evalue": "Interrupted by user",
          "traceback": [
            "\u001b[0;31m---------------------------------------------------------------------------\u001b[0m",
            "\u001b[0;31mKeyboardInterrupt\u001b[0m                         Traceback (most recent call last)",
            "\u001b[0;32m<ipython-input-6-3ce77112c3db>\u001b[0m in \u001b[0;36m<cell line: 7>\u001b[0;34m()\u001b[0m\n\u001b[1;32m      6\u001b[0m ]\n\u001b[1;32m      7\u001b[0m \u001b[0;32mwhile\u001b[0m \u001b[0;32mTrue\u001b[0m\u001b[0;34m:\u001b[0m\u001b[0;34m\u001b[0m\u001b[0;34m\u001b[0m\u001b[0m\n\u001b[0;32m----> 8\u001b[0;31m   \u001b[0mprompt\u001b[0m \u001b[0;34m=\u001b[0m \u001b[0minput\u001b[0m\u001b[0;34m(\u001b[0m\u001b[0;34m\"Enter the prompt\"\u001b[0m\u001b[0;34m)\u001b[0m\u001b[0;34m\u001b[0m\u001b[0;34m\u001b[0m\u001b[0m\n\u001b[0m\u001b[1;32m      9\u001b[0m   messages.append(\n\u001b[1;32m     10\u001b[0m     {\n",
            "\u001b[0;32m/usr/local/lib/python3.10/dist-packages/ipykernel/kernelbase.py\u001b[0m in \u001b[0;36mraw_input\u001b[0;34m(self, prompt)\u001b[0m\n\u001b[1;32m    849\u001b[0m                 \u001b[0;34m\"raw_input was called, but this frontend does not support input requests.\"\u001b[0m\u001b[0;34m\u001b[0m\u001b[0;34m\u001b[0m\u001b[0m\n\u001b[1;32m    850\u001b[0m             )\n\u001b[0;32m--> 851\u001b[0;31m         return self._input_request(str(prompt),\n\u001b[0m\u001b[1;32m    852\u001b[0m             \u001b[0mself\u001b[0m\u001b[0;34m.\u001b[0m\u001b[0m_parent_ident\u001b[0m\u001b[0;34m,\u001b[0m\u001b[0;34m\u001b[0m\u001b[0;34m\u001b[0m\u001b[0m\n\u001b[1;32m    853\u001b[0m             \u001b[0mself\u001b[0m\u001b[0;34m.\u001b[0m\u001b[0m_parent_header\u001b[0m\u001b[0;34m,\u001b[0m\u001b[0;34m\u001b[0m\u001b[0;34m\u001b[0m\u001b[0m\n",
            "\u001b[0;32m/usr/local/lib/python3.10/dist-packages/ipykernel/kernelbase.py\u001b[0m in \u001b[0;36m_input_request\u001b[0;34m(self, prompt, ident, parent, password)\u001b[0m\n\u001b[1;32m    893\u001b[0m             \u001b[0;32mexcept\u001b[0m \u001b[0mKeyboardInterrupt\u001b[0m\u001b[0;34m:\u001b[0m\u001b[0;34m\u001b[0m\u001b[0;34m\u001b[0m\u001b[0m\n\u001b[1;32m    894\u001b[0m                 \u001b[0;31m# re-raise KeyboardInterrupt, to truncate traceback\u001b[0m\u001b[0;34m\u001b[0m\u001b[0;34m\u001b[0m\u001b[0m\n\u001b[0;32m--> 895\u001b[0;31m                 \u001b[0;32mraise\u001b[0m \u001b[0mKeyboardInterrupt\u001b[0m\u001b[0;34m(\u001b[0m\u001b[0;34m\"Interrupted by user\"\u001b[0m\u001b[0;34m)\u001b[0m \u001b[0;32mfrom\u001b[0m \u001b[0;32mNone\u001b[0m\u001b[0;34m\u001b[0m\u001b[0;34m\u001b[0m\u001b[0m\n\u001b[0m\u001b[1;32m    896\u001b[0m             \u001b[0;32mexcept\u001b[0m \u001b[0mException\u001b[0m \u001b[0;32mas\u001b[0m \u001b[0me\u001b[0m\u001b[0;34m:\u001b[0m\u001b[0;34m\u001b[0m\u001b[0;34m\u001b[0m\u001b[0m\n\u001b[1;32m    897\u001b[0m                 \u001b[0mself\u001b[0m\u001b[0;34m.\u001b[0m\u001b[0mlog\u001b[0m\u001b[0;34m.\u001b[0m\u001b[0mwarning\u001b[0m\u001b[0;34m(\u001b[0m\u001b[0;34m\"Invalid Message:\"\u001b[0m\u001b[0;34m,\u001b[0m \u001b[0mexc_info\u001b[0m\u001b[0;34m=\u001b[0m\u001b[0;32mTrue\u001b[0m\u001b[0;34m)\u001b[0m\u001b[0;34m\u001b[0m\u001b[0;34m\u001b[0m\u001b[0m\n",
            "\u001b[0;31mKeyboardInterrupt\u001b[0m: Interrupted by user"
          ]
        }
      ]
    },
    {
      "cell_type": "code",
      "source": [],
      "metadata": {
        "id": "Y52g1tjiwI-N"
      },
      "execution_count": null,
      "outputs": []
    }
  ]
}